{
  "nbformat": 4,
  "nbformat_minor": 0,
  "metadata": {
    "colab": {
      "provenance": []
    },
    "kernelspec": {
      "name": "python3",
      "display_name": "Python 3"
    },
    "language_info": {
      "name": "python"
    }
  },
  "cells": [
    {
      "cell_type": "code",
      "execution_count": 1,
      "metadata": {
        "id": "dp1bLHvUaSCL"
      },
      "outputs": [],
      "source": [
        "#importing libraries\n",
        "\n",
        "import tensorflow as tf\n",
        "from tensorflow.keras.preprocessing import image_dataset_from_directory\n",
        "from tensorflow.keras.applications import MobileNetV2\n",
        "from tensorflow.keras import layers, models\n",
        "import matplotlib.pyplot as plt\n",
        "import numpy as np\n",
        "import os\n",
        "import seaborn as sns\n",
        "from sklearn.metrics import confusion_matrix, classification_report\n",
        "import seaborn as sns\n",
        "\n",
        "\n",
        "\n",
        "\n"
      ]
    },
    {
      "cell_type": "code",
      "source": [
        "# loading dataset\n",
        "data_dir = \"bike_images\"\n",
        "img_size = (224, 224)\n",
        "batch_size = 16\n",
        "\n",
        "train_ds = image_dataset_from_directory(\n",
        "    data_dir,\n",
        "    validation_split=0.2,\n",
        "    subset=\"training\",\n",
        "    seed=123,\n",
        "    image_size=img_size,\n",
        "    batch_size=batch_size\n",
        ")\n",
        "\n",
        "val_ds = image_dataset_from_directory(\n",
        "    data_dir,\n",
        "    validation_split=0.2,\n",
        "    subset=\"validation\",\n",
        "    seed=123,\n",
        "    image_size=img_size,\n",
        "    batch_size=batch_size\n",
        ")\n",
        "\n",
        "class_names = train_ds.class_names\n",
        "print(\"Classes:\", class_names)\n"
      ],
      "metadata": {
        "colab": {
          "base_uri": "https://localhost:8080/"
        },
        "id": "4Tf1mtnaa6AE",
        "outputId": "b1b317ef-8aa3-4684-918d-215069f99cd9"
      },
      "execution_count": 3,
      "outputs": [
        {
          "output_type": "stream",
          "name": "stdout",
          "text": [
            "Found 33 files belonging to 2 classes.\n",
            "Using 27 files for training.\n",
            "Found 33 files belonging to 2 classes.\n",
            "Using 6 files for validation.\n",
            "Classes: ['city', 'race']\n"
          ]
        }
      ]
    },
    {
      "cell_type": "code",
      "source": [
        "#prefetch and buildin models\n",
        "AUTOTUNE = tf.data.AUTOTUNE\n",
        "train_ds = train_ds.prefetch(buffer_size=AUTOTUNE)\n",
        "val_ds = val_ds.prefetch(buffer_size=AUTOTUNE)\n",
        "\n",
        "\n",
        "base_model = MobileNetV2(input_shape=img_size + (3,), include_top=False, weights='imagenet')\n",
        "base_model.trainable = False\n",
        "\n",
        "model = models.Sequential([\n",
        "    base_model,\n",
        "    layers.GlobalAveragePooling2D(),\n",
        "    layers.Dense(128, activation='relu'),\n",
        "    layers.Dense(len(class_names), activation='softmax')\n",
        "])\n",
        "\n",
        "model.compile(optimizer='adam', loss='sparse_categorical_crossentropy', metrics=['accuracy'])\n",
        "model.summary()\n"
      ],
      "metadata": {
        "colab": {
          "base_uri": "https://localhost:8080/",
          "height": 324
        },
        "id": "rjAxOKHOb4bB",
        "outputId": "0c1e5467-3388-4e6f-9a2a-6273e366bafa"
      },
      "execution_count": 4,
      "outputs": [
        {
          "output_type": "stream",
          "name": "stdout",
          "text": [
            "Downloading data from https://storage.googleapis.com/tensorflow/keras-applications/mobilenet_v2/mobilenet_v2_weights_tf_dim_ordering_tf_kernels_1.0_224_no_top.h5\n",
            "\u001b[1m9406464/9406464\u001b[0m \u001b[32m━━━━━━━━━━━━━━━━━━━━\u001b[0m\u001b[37m\u001b[0m \u001b[1m0s\u001b[0m 0us/step\n"
          ]
        },
        {
          "output_type": "display_data",
          "data": {
            "text/plain": [
              "\u001b[1mModel: \"sequential\"\u001b[0m\n"
            ],
            "text/html": [
              "<pre style=\"white-space:pre;overflow-x:auto;line-height:normal;font-family:Menlo,'DejaVu Sans Mono',consolas,'Courier New',monospace\"><span style=\"font-weight: bold\">Model: \"sequential\"</span>\n",
              "</pre>\n"
            ]
          },
          "metadata": {}
        },
        {
          "output_type": "display_data",
          "data": {
            "text/plain": [
              "┏━━━━━━━━━━━━━━━━━━━━━━━━━━━━━━━━━┳━━━━━━━━━━━━━━━━━━━━━━━━┳━━━━━━━━━━━━━━━┓\n",
              "┃\u001b[1m \u001b[0m\u001b[1mLayer (type)                   \u001b[0m\u001b[1m \u001b[0m┃\u001b[1m \u001b[0m\u001b[1mOutput Shape          \u001b[0m\u001b[1m \u001b[0m┃\u001b[1m \u001b[0m\u001b[1m      Param #\u001b[0m\u001b[1m \u001b[0m┃\n",
              "┡━━━━━━━━━━━━━━━━━━━━━━━━━━━━━━━━━╇━━━━━━━━━━━━━━━━━━━━━━━━╇━━━━━━━━━━━━━━━┩\n",
              "│ mobilenetv2_1.00_224            │ (\u001b[38;5;45mNone\u001b[0m, \u001b[38;5;34m7\u001b[0m, \u001b[38;5;34m7\u001b[0m, \u001b[38;5;34m1280\u001b[0m)     │     \u001b[38;5;34m2,257,984\u001b[0m │\n",
              "│ (\u001b[38;5;33mFunctional\u001b[0m)                    │                        │               │\n",
              "├─────────────────────────────────┼────────────────────────┼───────────────┤\n",
              "│ global_average_pooling2d        │ (\u001b[38;5;45mNone\u001b[0m, \u001b[38;5;34m1280\u001b[0m)           │             \u001b[38;5;34m0\u001b[0m │\n",
              "│ (\u001b[38;5;33mGlobalAveragePooling2D\u001b[0m)        │                        │               │\n",
              "├─────────────────────────────────┼────────────────────────┼───────────────┤\n",
              "│ dense (\u001b[38;5;33mDense\u001b[0m)                   │ (\u001b[38;5;45mNone\u001b[0m, \u001b[38;5;34m128\u001b[0m)            │       \u001b[38;5;34m163,968\u001b[0m │\n",
              "├─────────────────────────────────┼────────────────────────┼───────────────┤\n",
              "│ dense_1 (\u001b[38;5;33mDense\u001b[0m)                 │ (\u001b[38;5;45mNone\u001b[0m, \u001b[38;5;34m2\u001b[0m)              │           \u001b[38;5;34m258\u001b[0m │\n",
              "└─────────────────────────────────┴────────────────────────┴───────────────┘\n"
            ],
            "text/html": [
              "<pre style=\"white-space:pre;overflow-x:auto;line-height:normal;font-family:Menlo,'DejaVu Sans Mono',consolas,'Courier New',monospace\">┏━━━━━━━━━━━━━━━━━━━━━━━━━━━━━━━━━┳━━━━━━━━━━━━━━━━━━━━━━━━┳━━━━━━━━━━━━━━━┓\n",
              "┃<span style=\"font-weight: bold\"> Layer (type)                    </span>┃<span style=\"font-weight: bold\"> Output Shape           </span>┃<span style=\"font-weight: bold\">       Param # </span>┃\n",
              "┡━━━━━━━━━━━━━━━━━━━━━━━━━━━━━━━━━╇━━━━━━━━━━━━━━━━━━━━━━━━╇━━━━━━━━━━━━━━━┩\n",
              "│ mobilenetv2_1.00_224            │ (<span style=\"color: #00d7ff; text-decoration-color: #00d7ff\">None</span>, <span style=\"color: #00af00; text-decoration-color: #00af00\">7</span>, <span style=\"color: #00af00; text-decoration-color: #00af00\">7</span>, <span style=\"color: #00af00; text-decoration-color: #00af00\">1280</span>)     │     <span style=\"color: #00af00; text-decoration-color: #00af00\">2,257,984</span> │\n",
              "│ (<span style=\"color: #0087ff; text-decoration-color: #0087ff\">Functional</span>)                    │                        │               │\n",
              "├─────────────────────────────────┼────────────────────────┼───────────────┤\n",
              "│ global_average_pooling2d        │ (<span style=\"color: #00d7ff; text-decoration-color: #00d7ff\">None</span>, <span style=\"color: #00af00; text-decoration-color: #00af00\">1280</span>)           │             <span style=\"color: #00af00; text-decoration-color: #00af00\">0</span> │\n",
              "│ (<span style=\"color: #0087ff; text-decoration-color: #0087ff\">GlobalAveragePooling2D</span>)        │                        │               │\n",
              "├─────────────────────────────────┼────────────────────────┼───────────────┤\n",
              "│ dense (<span style=\"color: #0087ff; text-decoration-color: #0087ff\">Dense</span>)                   │ (<span style=\"color: #00d7ff; text-decoration-color: #00d7ff\">None</span>, <span style=\"color: #00af00; text-decoration-color: #00af00\">128</span>)            │       <span style=\"color: #00af00; text-decoration-color: #00af00\">163,968</span> │\n",
              "├─────────────────────────────────┼────────────────────────┼───────────────┤\n",
              "│ dense_1 (<span style=\"color: #0087ff; text-decoration-color: #0087ff\">Dense</span>)                 │ (<span style=\"color: #00d7ff; text-decoration-color: #00d7ff\">None</span>, <span style=\"color: #00af00; text-decoration-color: #00af00\">2</span>)              │           <span style=\"color: #00af00; text-decoration-color: #00af00\">258</span> │\n",
              "└─────────────────────────────────┴────────────────────────┴───────────────┘\n",
              "</pre>\n"
            ]
          },
          "metadata": {}
        },
        {
          "output_type": "display_data",
          "data": {
            "text/plain": [
              "\u001b[1m Total params: \u001b[0m\u001b[38;5;34m2,422,210\u001b[0m (9.24 MB)\n"
            ],
            "text/html": [
              "<pre style=\"white-space:pre;overflow-x:auto;line-height:normal;font-family:Menlo,'DejaVu Sans Mono',consolas,'Courier New',monospace\"><span style=\"font-weight: bold\"> Total params: </span><span style=\"color: #00af00; text-decoration-color: #00af00\">2,422,210</span> (9.24 MB)\n",
              "</pre>\n"
            ]
          },
          "metadata": {}
        },
        {
          "output_type": "display_data",
          "data": {
            "text/plain": [
              "\u001b[1m Trainable params: \u001b[0m\u001b[38;5;34m164,226\u001b[0m (641.51 KB)\n"
            ],
            "text/html": [
              "<pre style=\"white-space:pre;overflow-x:auto;line-height:normal;font-family:Menlo,'DejaVu Sans Mono',consolas,'Courier New',monospace\"><span style=\"font-weight: bold\"> Trainable params: </span><span style=\"color: #00af00; text-decoration-color: #00af00\">164,226</span> (641.51 KB)\n",
              "</pre>\n"
            ]
          },
          "metadata": {}
        },
        {
          "output_type": "display_data",
          "data": {
            "text/plain": [
              "\u001b[1m Non-trainable params: \u001b[0m\u001b[38;5;34m2,257,984\u001b[0m (8.61 MB)\n"
            ],
            "text/html": [
              "<pre style=\"white-space:pre;overflow-x:auto;line-height:normal;font-family:Menlo,'DejaVu Sans Mono',consolas,'Courier New',monospace\"><span style=\"font-weight: bold\"> Non-trainable params: </span><span style=\"color: #00af00; text-decoration-color: #00af00\">2,257,984</span> (8.61 MB)\n",
              "</pre>\n"
            ]
          },
          "metadata": {}
        }
      ]
    },
    {
      "cell_type": "code",
      "source": [
        "#Train\n",
        "history = model.fit(train_ds, validation_data=val_ds, epochs=5)"
      ],
      "metadata": {
        "colab": {
          "base_uri": "https://localhost:8080/"
        },
        "id": "KTGVs1jKb8em",
        "outputId": "a62f7d95-1bec-473d-c5fb-8b7a0e82dd82"
      },
      "execution_count": 5,
      "outputs": [
        {
          "output_type": "stream",
          "name": "stdout",
          "text": [
            "Epoch 1/5\n",
            "\u001b[1m2/2\u001b[0m \u001b[32m━━━━━━━━━━━━━━━━━━━━\u001b[0m\u001b[37m\u001b[0m \u001b[1m14s\u001b[0m 5s/step - accuracy: 0.6073 - loss: 0.7773 - val_accuracy: 0.5000 - val_loss: 0.5920\n",
            "Epoch 2/5\n",
            "\u001b[1m2/2\u001b[0m \u001b[32m━━━━━━━━━━━━━━━━━━━━\u001b[0m\u001b[37m\u001b[0m \u001b[1m2s\u001b[0m 1s/step - accuracy: 0.8349 - loss: 0.3424 - val_accuracy: 0.8333 - val_loss: 0.4484\n",
            "Epoch 3/5\n",
            "\u001b[1m2/2\u001b[0m \u001b[32m━━━━━━━━━━━━━━━━━━━━\u001b[0m\u001b[37m\u001b[0m \u001b[1m2s\u001b[0m 1s/step - accuracy: 0.9012 - loss: 0.2992 - val_accuracy: 0.8333 - val_loss: 0.2510\n",
            "Epoch 4/5\n",
            "\u001b[1m2/2\u001b[0m \u001b[32m━━━━━━━━━━━━━━━━━━━━\u001b[0m\u001b[37m\u001b[0m \u001b[1m2s\u001b[0m 751ms/step - accuracy: 0.9545 - loss: 0.1738 - val_accuracy: 0.6667 - val_loss: 0.3911\n",
            "Epoch 5/5\n",
            "\u001b[1m2/2\u001b[0m \u001b[32m━━━━━━━━━━━━━━━━━━━━\u001b[0m\u001b[37m\u001b[0m \u001b[1m4s\u001b[0m 2s/step - accuracy: 0.8843 - loss: 0.2070 - val_accuracy: 0.6667 - val_loss: 0.3610\n"
          ]
        }
      ]
    },
    {
      "cell_type": "code",
      "source": [
        "\n",
        "#plot accuracy\n",
        "plt.plot(history.history['accuracy'], label='train acc')\n",
        "plt.plot(history.history['val_accuracy'], label='val acc')\n",
        "plt.legend()\n",
        "plt.title(\"Training Accuracy\")\n",
        "plt.show()\n"
      ],
      "metadata": {
        "colab": {
          "base_uri": "https://localhost:8080/",
          "height": 452
        },
        "id": "CwfsxuJXcD1r",
        "outputId": "caa6cb39-459c-4ca5-ad65-7a2d71525beb"
      },
      "execution_count": 6,
      "outputs": [
        {
          "output_type": "display_data",
          "data": {
            "text/plain": [
              "<Figure size 640x480 with 1 Axes>"
            ],
            "image/png": "[encoded data removed]"
          },
          "metadata": {}
        }
      ]
    },
    {
      "cell_type": "code",
      "source": [
        "\n",
        "#testing phase\n",
        "\n",
        "def predict_images_from_labeled_folders(base_folder):\n",
        "    y_true = []\n",
        "    y_pred = []\n",
        "    filenames = []\n",
        "\n",
        "    for label_folder in os.listdir(base_folder):\n",
        "        label_path = os.path.join(base_folder, label_folder)\n",
        "        if not os.path.isdir(label_path):\n",
        "            continue\n",
        "\n",
        "        for filename in os.listdir(label_path):\n",
        "            if filename.lower().endswith((\".jpg\", \".jpeg\", \".png\")):\n",
        "                img_path = os.path.join(label_path, filename)\n",
        "                img = tf.keras.utils.load_img(img_path, target_size=img_size)\n",
        "                img_array = tf.keras.utils.img_to_array(img)\n",
        "                img_array = tf.expand_dims(img_array, 0)\n",
        "                predictions = model.predict(img_array, verbose=0)\n",
        "                predicted_class = class_names[np.argmax(predictions[0])]\n",
        "                confidence = np.max(predictions[0])\n",
        "\n",
        "                print(f\"{filename} → Prediction: {predicted_class} ({confidence:.2f}) | Actual: {label_folder}\")\n",
        "\n",
        "                y_pred.append(np.argmax(predictions[0]))\n",
        "                y_true.append(class_names.index(label_folder))\n",
        "                filenames.append(filename)\n",
        "\n",
        "\n",
        "    cm = confusion_matrix(y_true, y_pred)\n",
        "    sns.heatmap(cm, annot=True, fmt='d', cmap='Blues',\n",
        "                xticklabels=class_names, yticklabels=class_names)\n",
        "    plt.title(\"Confusion Matrix\")\n",
        "    plt.xlabel(\"Predicted\")\n",
        "    plt.ylabel(\"Actual\")\n",
        "    plt.savefig(\"confusion_matrix.png\")\n",
        "    plt.show()\n",
        "\n",
        "    print(\"\\nClassification Report:\")\n",
        "    print(classification_report(y_true, y_pred, target_names=class_names))\n"
      ],
      "metadata": {
        "id": "atvsSjR-aYrD"
      },
      "execution_count": 16,
      "outputs": []
    },
    {
      "cell_type": "code",
      "source": [
        "predict_images_from_labeled_folders(\"/content/test\")\n"
      ],
      "metadata": {
        "colab": {
          "base_uri": "https://localhost:8080/",
          "height": 1000
        },
        "id": "AncpkCnRfyJa",
        "outputId": "845efea6-3611-43da-fa4e-80ac489ddfcd"
      },
      "execution_count": 17,
      "outputs": [
        {
          "output_type": "stream",
          "name": "stdout",
          "text": [
            "Look_795_30th_Anniversary_Dura-Ace_9100-Mavic_Custom_Build_(30636542393).jpg → Prediction: city (0.55) | Actual: race\n",
            "images (1).jpg → Prediction: city (0.75) | Actual: race\n",
            "images (4).jpg → Prediction: city (0.80) | Actual: race\n",
            "images (5).jpg → Prediction: city (0.81) | Actual: race\n",
            "New-Ares-Pearl-white-dura-ace-bike.jpg → Prediction: race (1.00) | Actual: race\n",
            "model_SuperSixEVO_C23.jpg → Prediction: race (0.95) | Actual: race\n",
            "New-Ares-Candy-Red-105-Bike.jpg → Prediction: race (0.98) | Actual: race\n",
            "2025_Pride_Pearl-White.png → Prediction: race (0.94) | Actual: race\n",
            "frpVCjUG6cxzxCXF2W89GL.jpg → Prediction: race (0.86) | Actual: race\n",
            "J5o8JN9iHNdKcs2HoXTEN3.jpg → Prediction: race (0.91) | Actual: race\n",
            "Stiffness-to-weight_image_1024x.png → Prediction: race (1.00) | Actual: race\n",
            "model_SystemSix_C23.jpg → Prediction: race (0.96) | Actual: race\n",
            "images (2).jpg → Prediction: city (0.50) | Actual: race\n",
            "122216_orro_venturi_tri_ultegra_di2_airbeat_tt_bike_2023.jpg → Prediction: race (0.92) | Actual: race\n",
            "images (3).jpg → Prediction: race (0.62) | Actual: race\n",
            "product-card-1.jpg → Prediction: race (0.77) | Actual: race\n",
            "C68-Limited-Edition-1.jpg → Prediction: race (1.00) | Actual: race\n",
            "c5df68ff30eaa5019ea3-fL8z9YKz-medium.png → Prediction: race (0.86) | Actual: race\n",
            "653-1683220917.jpg.jpg → Prediction: city (1.00) | Actual: city\n",
            "images (1).jpg → Prediction: city (0.97) | Actual: city\n",
            "Use3_2560x.jpg → Prediction: city (1.00) | Actual: city\n",
            "unnamed.jpg → Prediction: city (0.95) | Actual: city\n",
            "Azor-Ameland-Shimano-Steps-NN7-Denim-Blue-Matte-1.jpg → Prediction: city (0.99) | Actual: city\n",
            "IMG_1884-nzb1umg7smzk0w4iv1tg5b9s7npmq0w187um6xu8g0.jpg → Prediction: city (0.99) | Actual: city\n",
            "FAS_KoolThing_2055.jpg → Prediction: city (0.99) | Actual: city\n",
            "81M3U17JLTL._AC_UF894,1000_QL80_.jpg → Prediction: city (0.98) | Actual: city\n",
            "81WIMJIpX9L._AC_UF894,1000_QL80_.jpg → Prediction: city (0.95) | Actual: city\n",
            "Azor-Amsterdam-Gents-High-Gloss-Black.jpg → Prediction: city (0.97) | Actual: city\n",
            "images (2).jpg → Prediction: city (0.99) | Actual: city\n",
            "Sunrise-Dutch-Style-6-Speed-Lightweight-City-Bike.jpg → Prediction: city (0.99) | Actual: city\n",
            "DSC_1118.jpg → Prediction: city (0.99) | Actual: city\n",
            "Screen-Shot-2014-07-01-at-11.46.13-680x434.png → Prediction: city (0.97) | Actual: city\n",
            "Screenshot-2025-03-05-at-16.57.21.png → Prediction: city (0.99) | Actual: city\n"
          ]
        },
        {
          "output_type": "display_data",
          "data": {
            "text/plain": [
              "<Figure size 640x480 with 2 Axes>"
            ],
            "image/png": "[encoded data removed]"
          },
          "metadata": {}
        },
        {
          "output_type": "stream",
          "name": "stdout",
          "text": [
            "\n",
            "Classification Report:\n",
            "              precision    recall  f1-score   support\n",
            "\n",
            "        city       0.75      1.00      0.86        15\n",
            "        race       1.00      0.72      0.84        18\n",
            "\n",
            "    accuracy                           0.85        33\n",
            "   macro avg       0.88      0.86      0.85        33\n",
            "weighted avg       0.89      0.85      0.85        33\n",
            "\n"
          ]
        }
      ]
    }
  ]
}